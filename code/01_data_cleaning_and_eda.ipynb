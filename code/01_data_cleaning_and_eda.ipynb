{
 "cells": [
  {
   "cell_type": "markdown",
   "id": "0fd674fa-84c0-4139-a8fa-0d8e6a1b2f9a",
   "metadata": {},
   "source": [
    "# Data Cleaning & EDA"
   ]
  },
  {
   "cell_type": "code",
   "execution_count": 1,
   "id": "45de4451-284f-49e3-ac63-9ff0e4d9d7d7",
   "metadata": {},
   "outputs": [],
   "source": [
    "#imoprting libraries\n",
    "import matplotlib.pyplot as plt\n",
    "import numpy as np\n",
    "import pandas as pd\n",
    "import seaborn as sns\n",
    "\n",
    "from sklearn.naive_bayes import MultinomialNB\n",
    "from sklearn.model_selection import train_test_split, GridSearchCV\n",
    "from sklearn.feature_extraction.text import CountVectorizer, TfidfVectorizer\n",
    "from sklearn.pipeline import make_pipeline\n",
    "\n",
    "from nltk.tokenize import sent_tokenize, word_tokenize, RegexpTokenizer\n",
    "from nltk.corpus import stopwords\n",
    "from nltk.stem import WordNetLemmatizer"
   ]
  },
  {
   "cell_type": "code",
   "execution_count": 2,
   "id": "00e54faa-85f9-49a8-9405-9472f9ec3459",
   "metadata": {},
   "outputs": [],
   "source": [
    "# importing Reddit CSV \n",
    "reddit = pd.read_csv('./data/reddit.csv')"
   ]
  },
  {
   "cell_type": "code",
   "execution_count": 3,
   "id": "8588f934-b963-4819-85d5-2ad32130494d",
   "metadata": {},
   "outputs": [
    {
     "data": {
      "text/html": [
       "<div>\n",
       "<style scoped>\n",
       "    .dataframe tbody tr th:only-of-type {\n",
       "        vertical-align: middle;\n",
       "    }\n",
       "\n",
       "    .dataframe tbody tr th {\n",
       "        vertical-align: top;\n",
       "    }\n",
       "\n",
       "    .dataframe thead th {\n",
       "        text-align: right;\n",
       "    }\n",
       "</style>\n",
       "<table border=\"1\" class=\"dataframe\">\n",
       "  <thead>\n",
       "    <tr style=\"text-align: right;\">\n",
       "      <th></th>\n",
       "      <th>created_utc</th>\n",
       "      <th>num_comments</th>\n",
       "      <th>score</th>\n",
       "      <th>subreddit</th>\n",
       "      <th>title</th>\n",
       "      <th>is_nfl</th>\n",
       "    </tr>\n",
       "  </thead>\n",
       "  <tbody>\n",
       "    <tr>\n",
       "      <th>0</th>\n",
       "      <td>1633046573</td>\n",
       "      <td>61</td>\n",
       "      <td>1</td>\n",
       "      <td>nfl</td>\n",
       "      <td>Lamar Jackson Hate</td>\n",
       "      <td>1</td>\n",
       "    </tr>\n",
       "    <tr>\n",
       "      <th>1</th>\n",
       "      <td>1633046634</td>\n",
       "      <td>103</td>\n",
       "      <td>1</td>\n",
       "      <td>nfl</td>\n",
       "      <td>[Lombardi] 49ers continue advocating for a rul...</td>\n",
       "      <td>1</td>\n",
       "    </tr>\n",
       "  </tbody>\n",
       "</table>\n",
       "</div>"
      ],
      "text/plain": [
       "   created_utc  num_comments  score subreddit  \\\n",
       "0   1633046573            61      1       nfl   \n",
       "1   1633046634           103      1       nfl   \n",
       "\n",
       "                                               title  is_nfl  \n",
       "0                                 Lamar Jackson Hate       1  \n",
       "1  [Lombardi] 49ers continue advocating for a rul...       1  "
      ]
     },
     "execution_count": 3,
     "metadata": {},
     "output_type": "execute_result"
    }
   ],
   "source": [
    "# inspecting dataframe\n",
    "reddit.head(2)"
   ]
  },
  {
   "cell_type": "code",
   "execution_count": 4,
   "id": "fc1cf7da-b48a-4742-96a4-130c6d144a30",
   "metadata": {},
   "outputs": [],
   "source": [
    "# converting epoch to datetime and dropping original column - inspiration from https://tinyurl.com/4hr9uykt\n",
    "reddit['date'] = pd.to_datetime(reddit['created_utc'], unit='s')\n",
    "reddit.drop(columns = 'created_utc', inplace = True)"
   ]
  },
  {
   "cell_type": "code",
   "execution_count": 5,
   "id": "a03af93c-68da-461c-9d2d-1896be817514",
   "metadata": {},
   "outputs": [],
   "source": [
    "# converting datetime to date\n",
    "reddit['date'] = pd.to_datetime(reddit['date']).dt.date.astype((\"datetime64\"))"
   ]
  },
  {
   "cell_type": "code",
   "execution_count": 6,
   "id": "cd26ad23-04ee-4895-bc2c-6ad27e87054d",
   "metadata": {},
   "outputs": [
    {
     "data": {
      "text/plain": [
       "(1929, 6)"
      ]
     },
     "execution_count": 6,
     "metadata": {},
     "output_type": "execute_result"
    }
   ],
   "source": [
    "# checking total number of observations\n",
    "reddit.shape"
   ]
  },
  {
   "cell_type": "code",
   "execution_count": 7,
   "id": "d6348743-889c-439c-998f-37006820152c",
   "metadata": {},
   "outputs": [
    {
     "data": {
      "text/plain": [
       "0    993\n",
       "1    936\n",
       "Name: is_nfl, dtype: int64"
      ]
     },
     "execution_count": 7,
     "metadata": {},
     "output_type": "execute_result"
    }
   ],
   "source": [
    "# checking total count of each y value\n",
    "reddit['is_nfl'].value_counts()"
   ]
  },
  {
   "cell_type": "code",
   "execution_count": 8,
   "id": "eb6902b9-07c6-40c3-9b70-fb053f239b0c",
   "metadata": {},
   "outputs": [
    {
     "data": {
      "text/plain": [
       "0    0.514774\n",
       "1    0.485226\n",
       "Name: is_nfl, dtype: float64"
      ]
     },
     "execution_count": 8,
     "metadata": {},
     "output_type": "execute_result"
    }
   ],
   "source": [
    "# normalizing to determine baseline model score (51.48%)\n",
    "reddit['is_nfl'].value_counts(normalize = True)"
   ]
  },
  {
   "cell_type": "code",
   "execution_count": 9,
   "id": "7ca45c93-1efa-4b71-988a-2ddda6a21683",
   "metadata": {},
   "outputs": [
    {
     "data": {
      "text/plain": [
       "2021-10-10    200\n",
       "2021-10-08    200\n",
       "2021-10-07    200\n",
       "2021-10-06    200\n",
       "2021-10-05    200\n",
       "2021-10-04    200\n",
       "2021-10-03    200\n",
       "2021-10-01    200\n",
       "2021-10-09    168\n",
       "2021-10-02    161\n",
       "Name: date, dtype: int64"
      ]
     },
     "execution_count": 9,
     "metadata": {},
     "output_type": "execute_result"
    }
   ],
   "source": [
    "# checking value counts across dates. Some came just shy of hitting the max 100 posts allowed per pull by Reddit\n",
    "reddit['date'].value_counts()"
   ]
  },
  {
   "cell_type": "code",
   "execution_count": 10,
   "id": "84daf9d7-4688-4be0-b3a6-83a013f08a1f",
   "metadata": {},
   "outputs": [
    {
     "data": {
      "image/png": "[encoded data removed]",
      "text/plain": [
       "<Figure size 432x288 with 1 Axes>"
      ]
     },
     "metadata": {
      "needs_background": "light"
     },
     "output_type": "display_data"
    }
   ],
   "source": [
    "# histplot of the same value counts to help visualize - unsure why gaps are displayed here\n",
    "sns.histplot(data = reddit, x = 'date');"
   ]
  },
  {
   "cell_type": "code",
   "execution_count": 11,
   "id": "ea2be046-b5ce-4e99-bf2d-f53a47c6cc3a",
   "metadata": {},
   "outputs": [
    {
     "name": "stdout",
     "output_type": "stream",
     "text": [
      "<class 'pandas.core.frame.DataFrame'>\n",
      "RangeIndex: 1929 entries, 0 to 1928\n",
      "Data columns (total 6 columns):\n",
      " #   Column        Non-Null Count  Dtype         \n",
      "---  ------        --------------  -----         \n",
      " 0   num_comments  1929 non-null   int64         \n",
      " 1   score         1929 non-null   int64         \n",
      " 2   subreddit     1929 non-null   object        \n",
      " 3   title         1929 non-null   object        \n",
      " 4   is_nfl        1929 non-null   int64         \n",
      " 5   date          1929 non-null   datetime64[ns]\n",
      "dtypes: datetime64[ns](1), int64(3), object(2)\n",
      "memory usage: 90.5+ KB\n"
     ]
    }
   ],
   "source": [
    "# making sure dtypes are still appropriate\n",
    "reddit.info()"
   ]
  },
  {
   "cell_type": "code",
   "execution_count": 12,
   "id": "c57135f4-7d84-4cb7-8159-88441dbe1250",
   "metadata": {},
   "outputs": [
    {
     "data": {
      "text/plain": [
       "num_comments    0\n",
       "score           0\n",
       "subreddit       0\n",
       "title           0\n",
       "is_nfl          0\n",
       "date            0\n",
       "dtype: int64"
      ]
     },
     "execution_count": 12,
     "metadata": {},
     "output_type": "execute_result"
    }
   ],
   "source": [
    "# checking for null values - looks good\n",
    "reddit.isnull().sum()"
   ]
  },
  {
   "cell_type": "code",
   "execution_count": 13,
   "id": "737999e7-fbdd-4f36-b98f-8f7e121e1b08",
   "metadata": {},
   "outputs": [],
   "source": [
    "# Function to clean and separate titles using regex, and then Stem/Lem the cleaned text and filter stop words. Courtesy Breakfast Hour lesson. Thanks Katie!\n",
    "def cleaner_rev(review):\n",
    "    # Set token & instantiate Lem/Stem\n",
    "    lemmatizer = WordNetLemmatizer()\n",
    "    my_tokenizer = RegexpTokenizer(\"[\\w']+|\\$[\\d\\.]+\") \n",
    "    \n",
    "    # Tokenize words\n",
    "    words = my_tokenizer.tokenize(review.lower())\n",
    "    # What about stop words??\n",
    "    stop_word_list = stopwords.words('english')\n",
    "    no_stops = [i for i in words if i not in stop_word_list]\n",
    "    # Lem/Stem\n",
    "    rev_lem = [lemmatizer.lemmatize(i) for i in no_stops]\n",
    "    # Put words back together\n",
    "    return ' '.join(rev_lem)"
   ]
  },
  {
   "cell_type": "code",
   "execution_count": 14,
   "id": "55f5b463-59e0-4785-9945-a317774022a5",
   "metadata": {},
   "outputs": [],
   "source": [
    "# adding column of the cleaned titles\n",
    "reddit['clean_title'] = reddit['title'].map(cleaner_rev)"
   ]
  },
  {
   "cell_type": "code",
   "execution_count": 15,
   "id": "cb17cdc6-a212-4f41-9333-4d3ed88d309e",
   "metadata": {},
   "outputs": [],
   "source": [
    "# adding column for word count of original titles (prior to cleaning)\n",
    "reddit['word_count'] = reddit['title'].str.split().str.len()"
   ]
  },
  {
   "cell_type": "code",
   "execution_count": 16,
   "id": "361ea244-079b-4333-aaf8-1a454f2119b6",
   "metadata": {},
   "outputs": [
    {
     "data": {
      "text/html": [
       "<div>\n",
       "<style scoped>\n",
       "    .dataframe tbody tr th:only-of-type {\n",
       "        vertical-align: middle;\n",
       "    }\n",
       "\n",
       "    .dataframe tbody tr th {\n",
       "        vertical-align: top;\n",
       "    }\n",
       "\n",
       "    .dataframe thead th {\n",
       "        text-align: right;\n",
       "    }\n",
       "</style>\n",
       "<table border=\"1\" class=\"dataframe\">\n",
       "  <thead>\n",
       "    <tr style=\"text-align: right;\">\n",
       "      <th></th>\n",
       "      <th>num_comments</th>\n",
       "      <th>score</th>\n",
       "      <th>word_count</th>\n",
       "    </tr>\n",
       "    <tr>\n",
       "      <th>is_nfl</th>\n",
       "      <th></th>\n",
       "      <th></th>\n",
       "      <th></th>\n",
       "    </tr>\n",
       "  </thead>\n",
       "  <tbody>\n",
       "    <tr>\n",
       "      <th>0</th>\n",
       "      <td>251.851964</td>\n",
       "      <td>15.359517</td>\n",
       "      <td>12.485398</td>\n",
       "    </tr>\n",
       "    <tr>\n",
       "      <th>1</th>\n",
       "      <td>262.121795</td>\n",
       "      <td>51.992521</td>\n",
       "      <td>19.237179</td>\n",
       "    </tr>\n",
       "  </tbody>\n",
       "</table>\n",
       "</div>"
      ],
      "text/plain": [
       "        num_comments      score  word_count\n",
       "is_nfl                                     \n",
       "0         251.851964  15.359517   12.485398\n",
       "1         262.121795  51.992521   19.237179"
      ]
     },
     "execution_count": 16,
     "metadata": {},
     "output_type": "execute_result"
    }
   ],
   "source": [
    "# determining average word count (title) for each subreddit\n",
    "reddit.groupby(by='is_nfl').mean('word_count')"
   ]
  },
  {
   "cell_type": "code",
   "execution_count": 17,
   "id": "0de51333-bc72-4608-9aad-a6106d56251a",
   "metadata": {},
   "outputs": [
    {
     "data": {
      "text/html": [
       "<div>\n",
       "<style scoped>\n",
       "    .dataframe tbody tr th:only-of-type {\n",
       "        vertical-align: middle;\n",
       "    }\n",
       "\n",
       "    .dataframe tbody tr th {\n",
       "        vertical-align: top;\n",
       "    }\n",
       "\n",
       "    .dataframe thead th {\n",
       "        text-align: right;\n",
       "    }\n",
       "</style>\n",
       "<table border=\"1\" class=\"dataframe\">\n",
       "  <thead>\n",
       "    <tr style=\"text-align: right;\">\n",
       "      <th></th>\n",
       "      <th>num_comments</th>\n",
       "      <th>score</th>\n",
       "      <th>subreddit</th>\n",
       "      <th>title</th>\n",
       "      <th>is_nfl</th>\n",
       "      <th>date</th>\n",
       "      <th>clean_title</th>\n",
       "      <th>word_count</th>\n",
       "    </tr>\n",
       "  </thead>\n",
       "  <tbody>\n",
       "    <tr>\n",
       "      <th>0</th>\n",
       "      <td>61</td>\n",
       "      <td>1</td>\n",
       "      <td>nfl</td>\n",
       "      <td>Lamar Jackson Hate</td>\n",
       "      <td>1</td>\n",
       "      <td>2021-10-01</td>\n",
       "      <td>lamar jackson hate</td>\n",
       "      <td>3</td>\n",
       "    </tr>\n",
       "    <tr>\n",
       "      <th>1</th>\n",
       "      <td>103</td>\n",
       "      <td>1</td>\n",
       "      <td>nfl</td>\n",
       "      <td>[Lombardi] 49ers continue advocating for a rul...</td>\n",
       "      <td>1</td>\n",
       "      <td>2021-10-01</td>\n",
       "      <td>lombardi 49ers continue advocating rule change...</td>\n",
       "      <td>49</td>\n",
       "    </tr>\n",
       "    <tr>\n",
       "      <th>2</th>\n",
       "      <td>37</td>\n",
       "      <td>1</td>\n",
       "      <td>nfl</td>\n",
       "      <td>Is it just a coincidence that Golden Tate and ...</td>\n",
       "      <td>1</td>\n",
       "      <td>2021-10-01</td>\n",
       "      <td>coincidence golden tate auden tate au chemical...</td>\n",
       "      <td>23</td>\n",
       "    </tr>\n",
       "    <tr>\n",
       "      <th>3</th>\n",
       "      <td>62</td>\n",
       "      <td>1</td>\n",
       "      <td>nfl</td>\n",
       "      <td>[Highlight] James Robinson 6-YD TD Run. Jags I...</td>\n",
       "      <td>1</td>\n",
       "      <td>2021-10-01</td>\n",
       "      <td>highlight james robinson 6 yd td run jag impre...</td>\n",
       "      <td>10</td>\n",
       "    </tr>\n",
       "    <tr>\n",
       "      <th>4</th>\n",
       "      <td>30</td>\n",
       "      <td>1</td>\n",
       "      <td>nfl</td>\n",
       "      <td>Qb vs oline</td>\n",
       "      <td>1</td>\n",
       "      <td>2021-10-01</td>\n",
       "      <td>qb v oline</td>\n",
       "      <td>3</td>\n",
       "    </tr>\n",
       "  </tbody>\n",
       "</table>\n",
       "</div>"
      ],
      "text/plain": [
       "   num_comments  score subreddit  \\\n",
       "0            61      1       nfl   \n",
       "1           103      1       nfl   \n",
       "2            37      1       nfl   \n",
       "3            62      1       nfl   \n",
       "4            30      1       nfl   \n",
       "\n",
       "                                               title  is_nfl       date  \\\n",
       "0                                 Lamar Jackson Hate       1 2021-10-01   \n",
       "1  [Lombardi] 49ers continue advocating for a rul...       1 2021-10-01   \n",
       "2  Is it just a coincidence that Golden Tate and ...       1 2021-10-01   \n",
       "3  [Highlight] James Robinson 6-YD TD Run. Jags I...       1 2021-10-01   \n",
       "4                                        Qb vs oline       1 2021-10-01   \n",
       "\n",
       "                                         clean_title  word_count  \n",
       "0                                 lamar jackson hate           3  \n",
       "1  lombardi 49ers continue advocating rule change...          49  \n",
       "2  coincidence golden tate auden tate au chemical...          23  \n",
       "3  highlight james robinson 6 yd td run jag impre...          10  \n",
       "4                                         qb v oline           3  "
      ]
     },
     "execution_count": 17,
     "metadata": {},
     "output_type": "execute_result"
    }
   ],
   "source": [
    "# confirming there aren't issues with new columns\n",
    "reddit.head()"
   ]
  },
  {
   "cell_type": "code",
   "execution_count": 18,
   "id": "0b6d6570-1837-413f-bf9c-52f969ecfec3",
   "metadata": {},
   "outputs": [],
   "source": [
    "# Create CSV from final DF\n",
    "reddit.to_csv('./data/reddit_clean.csv', index = False)"
   ]
  },
  {
   "cell_type": "markdown",
   "id": "f84093cd-b2b6-4da4-b913-135f6451afcd",
   "metadata": {},
   "source": [
    "Given what has been collected here we should have the appropriate data to begin building a successful model that addresses the problem statement."
   ]
  }
 ],
 "metadata": {
  "kernelspec": {
   "display_name": "Python 3 (ipykernel)",
   "language": "python",
   "name": "python3"
  },
  "language_info": {
   "codemirror_mode": {
    "name": "ipython",
    "version": 3
   },
   "file_extension": ".py",
   "mimetype": "text/x-python",
   "name": "python",
   "nbconvert_exporter": "python",
   "pygments_lexer": "ipython3",
   "version": "3.9.7"
  }
 },
 "nbformat": 4,
 "nbformat_minor": 5
}
