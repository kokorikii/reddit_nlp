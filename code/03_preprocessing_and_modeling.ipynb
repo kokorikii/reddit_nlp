{
 "cells": [
  {
   "cell_type": "markdown",
   "id": "631dbe55-37dc-4ab7-9de2-b0f9bd418323",
   "metadata": {},
   "source": [
    "# Preprocessing & Modeling"
   ]
  },
  {
   "cell_type": "code",
   "execution_count": 1,
   "id": "1dcca86e-c73a-4da4-b29a-4ae0a9c75b17",
   "metadata": {},
   "outputs": [],
   "source": [
    "# importing modules\n",
    "import matplotlib.pyplot as plt\n",
    "import numpy as np\n",
    "import pandas as pd\n",
    "import seaborn as sns\n",
    "from sklearn.feature_extraction.text import CountVectorizer, TfidfVectorizer\n",
    "from sklearn.pipeline import make_pipeline\n",
    "from sklearn.model_selection import train_test_split, GridSearchCV, cross_val_score\n",
    "from sklearn.linear_model import LogisticRegression\n",
    "from sklearn.ensemble import BaggingClassifier, RandomForestClassifier, ExtraTreesClassifier, VotingClassifier, AdaBoostClassifier, GradientBoostingClassifier\n",
    "from sklearn.preprocessing import StandardScaler\n",
    "from sklearn.naive_bayes import MultinomialNB\n",
    "from sklearn.feature_extraction import text \n",
    "import re\n",
    "import nltk\n",
    "\n",
    "# setting pandas settings to display additional rows within Jupyter Labs\n",
    "pd.set_option('display.max_rows', 500)"
   ]
  },
  {
   "cell_type": "code",
   "execution_count": 2,
   "id": "6e96f435-f97d-46dd-a07c-d853be032864",
   "metadata": {},
   "outputs": [],
   "source": [
    "# importing clean Reddit CSV \n",
    "reddit = pd.read_csv('./data/reddit_clean.csv')"
   ]
  },
  {
   "cell_type": "code",
   "execution_count": 3,
   "id": "72f0625e-86ba-44d1-86ff-ae79d873b47b",
   "metadata": {},
   "outputs": [
    {
     "name": "stdout",
     "output_type": "stream",
     "text": [
      "<class 'pandas.core.frame.DataFrame'>\n",
      "RangeIndex: 1929 entries, 0 to 1928\n",
      "Data columns (total 8 columns):\n",
      " #   Column        Non-Null Count  Dtype \n",
      "---  ------        --------------  ----- \n",
      " 0   num_comments  1929 non-null   int64 \n",
      " 1   score         1929 non-null   int64 \n",
      " 2   subreddit     1929 non-null   object\n",
      " 3   title         1929 non-null   object\n",
      " 4   is_nfl        1929 non-null   int64 \n",
      " 5   date          1929 non-null   object\n",
      " 6   clean_title   1929 non-null   object\n",
      " 7   word_count    1929 non-null   int64 \n",
      "dtypes: int64(4), object(4)\n",
      "memory usage: 120.7+ KB\n"
     ]
    }
   ],
   "source": [
    "# inspecting dtypes\n",
    "reddit.info()"
   ]
  },
  {
   "cell_type": "code",
   "execution_count": 4,
   "id": "004420d9-48fb-412e-8c4c-8275312dd06b",
   "metadata": {},
   "outputs": [
    {
     "data": {
      "text/html": [
       "<div>\n",
       "<style scoped>\n",
       "    .dataframe tbody tr th:only-of-type {\n",
       "        vertical-align: middle;\n",
       "    }\n",
       "\n",
       "    .dataframe tbody tr th {\n",
       "        vertical-align: top;\n",
       "    }\n",
       "\n",
       "    .dataframe thead th {\n",
       "        text-align: right;\n",
       "    }\n",
       "</style>\n",
       "<table border=\"1\" class=\"dataframe\">\n",
       "  <thead>\n",
       "    <tr style=\"text-align: right;\">\n",
       "      <th></th>\n",
       "      <th>num_comments</th>\n",
       "      <th>score</th>\n",
       "      <th>subreddit</th>\n",
       "      <th>title</th>\n",
       "      <th>is_nfl</th>\n",
       "      <th>date</th>\n",
       "      <th>clean_title</th>\n",
       "      <th>word_count</th>\n",
       "    </tr>\n",
       "  </thead>\n",
       "  <tbody>\n",
       "    <tr>\n",
       "      <th>0</th>\n",
       "      <td>61</td>\n",
       "      <td>1</td>\n",
       "      <td>nfl</td>\n",
       "      <td>Lamar Jackson Hate</td>\n",
       "      <td>1</td>\n",
       "      <td>2021-10-01</td>\n",
       "      <td>lamar jackson hate</td>\n",
       "      <td>3</td>\n",
       "    </tr>\n",
       "    <tr>\n",
       "      <th>1</th>\n",
       "      <td>103</td>\n",
       "      <td>1</td>\n",
       "      <td>nfl</td>\n",
       "      <td>[Lombardi] 49ers continue advocating for a rul...</td>\n",
       "      <td>1</td>\n",
       "      <td>2021-10-01</td>\n",
       "      <td>lombardi 49ers continue advocating rule change...</td>\n",
       "      <td>49</td>\n",
       "    </tr>\n",
       "  </tbody>\n",
       "</table>\n",
       "</div>"
      ],
      "text/plain": [
       "   num_comments  score subreddit  \\\n",
       "0            61      1       nfl   \n",
       "1           103      1       nfl   \n",
       "\n",
       "                                               title  is_nfl        date  \\\n",
       "0                                 Lamar Jackson Hate       1  2021-10-01   \n",
       "1  [Lombardi] 49ers continue advocating for a rul...       1  2021-10-01   \n",
       "\n",
       "                                         clean_title  word_count  \n",
       "0                                 lamar jackson hate           3  \n",
       "1  lombardi 49ers continue advocating rule change...          49  "
      ]
     },
     "execution_count": 4,
     "metadata": {},
     "output_type": "execute_result"
    }
   ],
   "source": [
    "#inspecting the DataFrame\n",
    "reddit.head(2)"
   ]
  },
  {
   "cell_type": "code",
   "execution_count": 5,
   "id": "ffc28b2b-fa08-4d34-baf7-b17db41f9842",
   "metadata": {},
   "outputs": [],
   "source": [
    "# creating X from the cleaned Reddit post titles\n",
    "X = reddit['clean_title']"
   ]
  },
  {
   "cell_type": "code",
   "execution_count": 6,
   "id": "31e66d32-4fed-4328-a37d-ca335adf1281",
   "metadata": {},
   "outputs": [],
   "source": [
    "# creating y from 'is_nfl' column. 1 = NFL, 0 = fantasyfootball\n",
    "y = reddit['is_nfl']"
   ]
  },
  {
   "cell_type": "code",
   "execution_count": 7,
   "id": "7c726ac4-481c-4635-90c6-4b55c3c417cb",
   "metadata": {},
   "outputs": [],
   "source": [
    "# train test split with random state\n",
    "X_train, X_test, y_train, y_test = train_test_split(X,y,random_state=48)"
   ]
  },
  {
   "cell_type": "code",
   "execution_count": 8,
   "id": "e47ba19d-582c-4926-9eb0-c3b58e298fc8",
   "metadata": {},
   "outputs": [],
   "source": [
    "# creating additional stop words\n",
    "extra_stop_words = pd.array(['morning', 'fantasy', 'nfl'])"
   ]
  },
  {
   "cell_type": "markdown",
   "id": "a8094ee3-9ece-4735-bf2c-ece9a25b68d5",
   "metadata": {},
   "source": [
    "---"
   ]
  },
  {
   "cell_type": "markdown",
   "id": "614f76b8-77e4-4570-a172-32fe2209c3ea",
   "metadata": {},
   "source": [
    "## Attempt One: Logistic Regression with GridSearch"
   ]
  },
  {
   "cell_type": "code",
   "execution_count": 9,
   "id": "d7308837-bb1a-4d17-a020-86d8db8dbd9a",
   "metadata": {},
   "outputs": [],
   "source": [
    "# pipe with logistic regression and countvectorizer\n",
    "cvect_pipe = make_pipeline(CountVectorizer(stop_words = text.ENGLISH_STOP_WORDS.union(extra_stop_words), max_features = 300),\n",
    "                           LogisticRegression(max_iter=1000, random_state=48))"
   ]
  },
  {
   "cell_type": "code",
   "execution_count": 10,
   "id": "967d62dd-2eb7-494e-b955-3d398aecf942",
   "metadata": {},
   "outputs": [],
   "source": [
    "# grid searching across ngram ranges\n",
    "params = {'countvectorizer__ngram_range': [(1,1), (1,2), (1,3), (2,3)]}"
   ]
  },
  {
   "cell_type": "code",
   "execution_count": 11,
   "id": "cf8fd1d0-8aeb-4ae1-8399-3efa01be4e8e",
   "metadata": {},
   "outputs": [
    {
     "data": {
      "text/plain": [
       "GridSearchCV(estimator=Pipeline(steps=[('countvectorizer',\n",
       "                                        CountVectorizer(max_features=300,\n",
       "                                                        stop_words=frozenset({'a',\n",
       "                                                                              'about',\n",
       "                                                                              'above',\n",
       "                                                                              'across',\n",
       "                                                                              'after',\n",
       "                                                                              'afterwards',\n",
       "                                                                              'again',\n",
       "                                                                              'against',\n",
       "                                                                              'all',\n",
       "                                                                              'almost',\n",
       "                                                                              'alone',\n",
       "                                                                              'along',\n",
       "                                                                              'already',\n",
       "                                                                              'also',\n",
       "                                                                              'although',\n",
       "                                                                              'always',\n",
       "                                                                              'am',\n",
       "                                                                              'among',\n",
       "                                                                              'amongst',\n",
       "                                                                              'amoungst',\n",
       "                                                                              'amount',\n",
       "                                                                              'an',\n",
       "                                                                              'and',\n",
       "                                                                              'another',\n",
       "                                                                              'any',\n",
       "                                                                              'anyhow',\n",
       "                                                                              'anyone',\n",
       "                                                                              'anything',\n",
       "                                                                              'anyway',\n",
       "                                                                              'anywhere', ...}))),\n",
       "                                       ('logisticregression',\n",
       "                                        LogisticRegression(max_iter=1000,\n",
       "                                                           random_state=48))]),\n",
       "             n_jobs=-1,\n",
       "             param_grid={'countvectorizer__ngram_range': [(1, 1), (1, 2),\n",
       "                                                          (1, 3), (2, 3)]})"
      ]
     },
     "execution_count": 11,
     "metadata": {},
     "output_type": "execute_result"
    }
   ],
   "source": [
    "# creating grid, fitting to test data\n",
    "cvect_grid = GridSearchCV(cvect_pipe, params, n_jobs =-1)\n",
    "cvect_grid.fit(X_train,y_train)"
   ]
  },
  {
   "cell_type": "code",
   "execution_count": 12,
   "id": "237092bd-7a36-4f93-b921-b734cf3ee8e0",
   "metadata": {},
   "outputs": [],
   "source": [
    "# creating predictions from training data\n",
    "preds = cvect_grid.predict(X_test)"
   ]
  },
  {
   "cell_type": "code",
   "execution_count": 13,
   "id": "e19a2de0-5302-4c48-9c12-db46a1a36144",
   "metadata": {},
   "outputs": [
    {
     "data": {
      "text/plain": [
       "0.7929606625258799"
      ]
     },
     "execution_count": 13,
     "metadata": {},
     "output_type": "execute_result"
    }
   ],
   "source": [
    "# accuracy score on test set\n",
    "cvect_grid.score(X_test, y_test)"
   ]
  },
  {
   "cell_type": "code",
   "execution_count": 14,
   "id": "ace1b7ec-e645-4e22-9977-92f764d12fbc",
   "metadata": {},
   "outputs": [
    {
     "data": {
      "text/plain": [
       "0.8796680497925311"
      ]
     },
     "execution_count": 14,
     "metadata": {},
     "output_type": "execute_result"
    }
   ],
   "source": [
    "# accuracy score on training set, slight overfitting\n",
    "cvect_grid.score(X_train, y_train)"
   ]
  },
  {
   "cell_type": "code",
   "execution_count": 15,
   "id": "98279f59-705e-4499-8fd4-d47173333545",
   "metadata": {},
   "outputs": [
    {
     "data": {
      "text/plain": [
       "{'countvectorizer__ngram_range': (1, 1)}"
      ]
     },
     "execution_count": 15,
     "metadata": {},
     "output_type": "execute_result"
    }
   ],
   "source": [
    "# pulling best parameters from gridsearch\n",
    "cvect_grid.best_params_"
   ]
  },
  {
   "cell_type": "markdown",
   "id": "9896f3cb-ab21-4d70-8aa0-529840873d3d",
   "metadata": {},
   "source": [
    "### Logistic Regression Coefficients"
   ]
  },
  {
   "cell_type": "code",
   "execution_count": 16,
   "id": "05205f47-8969-408f-88e4-7f5048105702",
   "metadata": {},
   "outputs": [],
   "source": [
    "# creating a dataframe from the coefficients and feature names\n",
    "coefs = cvect_grid.best_estimator_.named_steps['logisticregression'].coef_\n",
    "\n",
    "word_coefs = pd.DataFrame({'words': cvect_grid.best_estimator_.named_steps['countvectorizer'].get_feature_names_out(), \n",
    "              'coefs': coefs[0]})"
   ]
  },
  {
   "cell_type": "code",
   "execution_count": 17,
   "id": "bdecef19-80dd-4ffd-8422-1e35357a6ae6",
   "metadata": {},
   "outputs": [],
   "source": [
    "# creating a variable for words with highest coefficients (indicating NFL)\n",
    "top_words = word_coefs.sort_values(by='coefs', ascending=False).head(10)"
   ]
  },
  {
   "cell_type": "code",
   "execution_count": 18,
   "id": "1e020df0-8a62-4294-be5c-872931318fe2",
   "metadata": {},
   "outputs": [
    {
     "data": {
      "image/png": "[encoded data removed]",
      "text/plain": [
       "<Figure size 720x360 with 1 Axes>"
      ]
     },
     "metadata": {
      "needs_background": "light"
     },
     "output_type": "display_data"
    }
   ],
   "source": [
    "#plotting highest coefficient words in bar chart and saving figure for use in executive summary\n",
    "plt.figure(figsize = (10,5))\n",
    "sns.barplot(x = top_words['coefs'], y = top_words['words'])\n",
    "plt.title('NFL Fans Love Spectacular Highlights and Breaking News', fontsize = 25)\n",
    "plt.xlabel('Longer Bar = More Likely to be Included in NFL Post', fontsize = 15)\n",
    "plt.xticks(fontsize = 10)\n",
    "plt.yticks(fontsize = 10)\n",
    "plt.ylabel('Word', fontsize = 15)\n",
    "plt.savefig('./charts/nflcoef');"
   ]
  },
  {
   "cell_type": "code",
   "execution_count": 19,
   "id": "6286d343-784f-493b-b12c-4b684913865e",
   "metadata": {},
   "outputs": [],
   "source": [
    "# creating a variable for words with lowest coefficients (indicating fantasyfootball)\n",
    "bottom_words = word_coefs.sort_values(by='coefs', ascending=False).tail(10)"
   ]
  },
  {
   "cell_type": "code",
   "execution_count": 20,
   "id": "d072b8c4-b318-4a39-acec-1a9918769f2e",
   "metadata": {},
   "outputs": [
    {
     "data": {
      "image/png": "[encoded data removed]",
      "text/plain": [
       "<Figure size 720x360 with 1 Axes>"
      ]
     },
     "metadata": {
      "needs_background": "light"
     },
     "output_type": "display_data"
    }
   ],
   "source": [
    "# plotting negative coefficient words in bar chart and saving figure for use in executive summary\n",
    "plt.figure(figsize = (10, 5))\n",
    "sns.barplot(x = bottom_words['coefs'], y = bottom_words['words'])\n",
    "plt.title('Fantasy Football is All About Injuries and Lineup Advice', fontsize = 25)\n",
    "plt.xlabel('Longer Bar = More Likely to be Included in Fantasy Football Post', fontsize = 15)\n",
    "plt.xticks(fontsize = 10)\n",
    "plt.yticks(fontsize = 10)\n",
    "plt.ylabel('Word', fontsize = 15)\n",
    "plt.savefig('./charts/ffcoef');"
   ]
  },
  {
   "cell_type": "markdown",
   "id": "d239de94-00b0-4e19-9a79-434544e84ebd",
   "metadata": {},
   "source": [
    "---"
   ]
  },
  {
   "cell_type": "markdown",
   "id": "0215d18b-585e-417a-b92e-bcca0d186016",
   "metadata": {},
   "source": [
    "## Attempt Two: Random Forest"
   ]
  },
  {
   "cell_type": "code",
   "execution_count": 21,
   "id": "1619d6bd-86f8-4d53-ac26-ecfa548df79b",
   "metadata": {},
   "outputs": [],
   "source": [
    "# create pipe with random forest and countvectorizer\n",
    "forest_pipe = make_pipeline(CountVectorizer(stop_words = 'english', max_features = 300),\n",
    "                           RandomForestClassifier(random_state=48))"
   ]
  },
  {
   "cell_type": "code",
   "execution_count": 22,
   "id": "c6c8a0c0-481a-4bf0-b28c-0a3fff9f7826",
   "metadata": {},
   "outputs": [],
   "source": [
    "# grid searching across ngram ranges\n",
    "params = {'countvectorizer__ngram_range': [(1,1), (1,2), (1,3), (2,3)]}"
   ]
  },
  {
   "cell_type": "code",
   "execution_count": 23,
   "id": "07f83df4-341a-4ec6-8fbc-d197354f61fa",
   "metadata": {},
   "outputs": [
    {
     "data": {
      "text/plain": [
       "GridSearchCV(estimator=Pipeline(steps=[('countvectorizer',\n",
       "                                        CountVectorizer(max_features=300,\n",
       "                                                        stop_words='english')),\n",
       "                                       ('randomforestclassifier',\n",
       "                                        RandomForestClassifier(random_state=48))]),\n",
       "             n_jobs=-1,\n",
       "             param_grid={'countvectorizer__ngram_range': [(1, 1), (1, 2),\n",
       "                                                          (1, 3), (2, 3)]})"
      ]
     },
     "execution_count": 23,
     "metadata": {},
     "output_type": "execute_result"
    }
   ],
   "source": [
    "# creating gridsearch and fitting to training data\n",
    "forest_grid = GridSearchCV(forest_pipe, params, n_jobs =-1)\n",
    "forest_grid.fit(X_train,y_train)"
   ]
  },
  {
   "cell_type": "code",
   "execution_count": 24,
   "id": "b30f310f-aff3-4573-b2de-4617b71849e7",
   "metadata": {},
   "outputs": [],
   "source": [
    "# predictions for the test set\n",
    "preds = forest_grid.predict(X_test)"
   ]
  },
  {
   "cell_type": "code",
   "execution_count": 25,
   "id": "7c064754-cacf-4fc8-870a-2e172aa99d19",
   "metadata": {},
   "outputs": [
    {
     "data": {
      "text/plain": [
       "0.772256728778468"
      ]
     },
     "execution_count": 25,
     "metadata": {},
     "output_type": "execute_result"
    }
   ],
   "source": [
    "# accuracy score for the test set\n",
    "forest_grid.score(X_test, y_test)"
   ]
  },
  {
   "cell_type": "code",
   "execution_count": 26,
   "id": "9d9a0417-fcee-48a8-b67d-0724baa17e54",
   "metadata": {},
   "outputs": [
    {
     "data": {
      "text/plain": [
       "0.9764868603042877"
      ]
     },
     "execution_count": 26,
     "metadata": {},
     "output_type": "execute_result"
    }
   ],
   "source": [
    "# accuracy score for the training set, pretty heavy overfitting\n",
    "forest_grid.score(X_train, y_train)"
   ]
  },
  {
   "cell_type": "code",
   "execution_count": 27,
   "id": "38009269-f60e-4623-b120-5b1b534a192c",
   "metadata": {},
   "outputs": [
    {
     "data": {
      "text/plain": [
       "{'countvectorizer__ngram_range': (1, 1)}"
      ]
     },
     "execution_count": 27,
     "metadata": {},
     "output_type": "execute_result"
    }
   ],
   "source": [
    "# pulling best parameters from gridsearch\n",
    "forest_grid.best_params_"
   ]
  },
  {
   "cell_type": "markdown",
   "id": "1bb73fc5-4eb2-45b6-a8c1-ce7bf7256338",
   "metadata": {},
   "source": [
    "---"
   ]
  },
  {
   "cell_type": "markdown",
   "id": "f22b9cb5-8505-4a4f-9d00-0804c7b04bf7",
   "metadata": {},
   "source": [
    "## Attempt Three: Gradient Boosting"
   ]
  },
  {
   "cell_type": "code",
   "execution_count": 28,
   "id": "087e2ea5-1bf6-4883-b613-5eaac979caa0",
   "metadata": {},
   "outputs": [],
   "source": [
    "# pipe with gradient boosting and countvectorizer\n",
    "boost_pipe = make_pipeline(CountVectorizer(stop_words = 'english', max_features = 1000),\n",
    "                           GradientBoostingClassifier(random_state = 48))"
   ]
  },
  {
   "cell_type": "code",
   "execution_count": 29,
   "id": "8b2b8ebb-64ba-40e8-bbcc-d8d395afeda0",
   "metadata": {},
   "outputs": [],
   "source": [
    "# grid searching across ngram ranges\n",
    "params = {'countvectorizer__ngram_range': [(1,1), (1,2), (1,3), (2,3)]}"
   ]
  },
  {
   "cell_type": "code",
   "execution_count": 30,
   "id": "23a60dec-afe8-482e-9376-391a16e612bf",
   "metadata": {},
   "outputs": [
    {
     "data": {
      "text/plain": [
       "GridSearchCV(estimator=Pipeline(steps=[('countvectorizer',\n",
       "                                        CountVectorizer(max_features=1000,\n",
       "                                                        stop_words='english')),\n",
       "                                       ('gradientboostingclassifier',\n",
       "                                        GradientBoostingClassifier(random_state=48))]),\n",
       "             n_jobs=-1,\n",
       "             param_grid={'countvectorizer__ngram_range': [(1, 1), (1, 2),\n",
       "                                                          (1, 3), (2, 3)]})"
      ]
     },
     "execution_count": 30,
     "metadata": {},
     "output_type": "execute_result"
    }
   ],
   "source": [
    "# creating a gridsearch and fitting to training data\n",
    "boost_grid = GridSearchCV(boost_pipe, params, n_jobs =-1)\n",
    "boost_grid.fit(X_train,y_train)"
   ]
  },
  {
   "cell_type": "code",
   "execution_count": 31,
   "id": "a9e18273-6b37-4f61-834e-4f23a0813f2a",
   "metadata": {},
   "outputs": [],
   "source": [
    "# predictions for test set\n",
    "preds = boost_grid.predict(X_test)"
   ]
  },
  {
   "cell_type": "code",
   "execution_count": 32,
   "id": "4c0eab29-4d8f-4e0e-bae1-3a226a4e77bf",
   "metadata": {},
   "outputs": [
    {
     "data": {
      "text/plain": [
       "0.8115942028985508"
      ]
     },
     "execution_count": 32,
     "metadata": {},
     "output_type": "execute_result"
    }
   ],
   "source": [
    "# accuracy score on the test data\n",
    "boost_grid.score(X_test, y_test)"
   ]
  },
  {
   "cell_type": "code",
   "execution_count": 33,
   "id": "a3efe4f0-4157-4934-ad9d-bf2b0e098129",
   "metadata": {},
   "outputs": [
    {
     "data": {
      "text/plain": [
       "0.8734439834024896"
      ]
     },
     "execution_count": 33,
     "metadata": {},
     "output_type": "execute_result"
    }
   ],
   "source": [
    "# accuracy score on the training data\n",
    "boost_grid.score(X_train, y_train)"
   ]
  },
  {
   "cell_type": "code",
   "execution_count": 34,
   "id": "75e2c06e-c132-48bb-8d47-d093a2989a8b",
   "metadata": {},
   "outputs": [
    {
     "data": {
      "text/plain": [
       "{'countvectorizer__ngram_range': (1, 3)}"
      ]
     },
     "execution_count": 34,
     "metadata": {},
     "output_type": "execute_result"
    }
   ],
   "source": [
    "# pulling best parameters from the grid search\n",
    "boost_grid.best_params_"
   ]
  },
  {
   "cell_type": "markdown",
   "id": "659638bb-2936-456f-874c-75aa6746fc55",
   "metadata": {},
   "source": [
    "### Analyzing Predict Probas"
   ]
  },
  {
   "cell_type": "code",
   "execution_count": 35,
   "id": "702234b3-4074-4bc2-8c3f-8bffddae8fe4",
   "metadata": {},
   "outputs": [],
   "source": [
    "# inspiration from https://stackoverflow.com/questions/48947194/add-randomforestclassifier-predict-proba-results-to-original-dataframe\n",
    "prediction_of_probability = boost_grid.predict_proba(X_test)\n",
    "\n",
    "# pulling prediction probabilities and inserting into dataframe along with X_test data and targets\n",
    "df_test = pd.DataFrame(X_test)\n",
    "df_test['Target'] = y_test\n",
    "df_test['prob_0'] = prediction_of_probability[:,0] \n",
    "df_test['prob_1'] = prediction_of_probability[:,1]"
   ]
  },
  {
   "cell_type": "code",
   "execution_count": 36,
   "id": "f88fa4c2-d1dd-468d-9d5a-3c7c23ae6e8a",
   "metadata": {},
   "outputs": [
    {
     "data": {
      "text/html": [
       "<div>\n",
       "<style scoped>\n",
       "    .dataframe tbody tr th:only-of-type {\n",
       "        vertical-align: middle;\n",
       "    }\n",
       "\n",
       "    .dataframe tbody tr th {\n",
       "        vertical-align: top;\n",
       "    }\n",
       "\n",
       "    .dataframe thead th {\n",
       "        text-align: right;\n",
       "    }\n",
       "</style>\n",
       "<table border=\"1\" class=\"dataframe\">\n",
       "  <thead>\n",
       "    <tr style=\"text-align: right;\">\n",
       "      <th></th>\n",
       "      <th>clean_title</th>\n",
       "      <th>Target</th>\n",
       "      <th>prob_0</th>\n",
       "      <th>prob_1</th>\n",
       "    </tr>\n",
       "  </thead>\n",
       "  <tbody>\n",
       "    <tr>\n",
       "      <th>1861</th>\n",
       "      <td>official wdis rb sun morning 10 10 2021</td>\n",
       "      <td>0</td>\n",
       "      <td>0.946304</td>\n",
       "      <td>0.053696</td>\n",
       "    </tr>\n",
       "    <tr>\n",
       "      <th>1762</th>\n",
       "      <td>official wdis rb sat morning 10 09 2021</td>\n",
       "      <td>0</td>\n",
       "      <td>0.946304</td>\n",
       "      <td>0.053696</td>\n",
       "    </tr>\n",
       "    <tr>\n",
       "      <th>1090</th>\n",
       "      <td>official wdis rb sat evening 10 02 2021</td>\n",
       "      <td>0</td>\n",
       "      <td>0.932765</td>\n",
       "      <td>0.067235</td>\n",
       "    </tr>\n",
       "    <tr>\n",
       "      <th>1016</th>\n",
       "      <td>official wdis rb fri evening 10 01 2021</td>\n",
       "      <td>0</td>\n",
       "      <td>0.932765</td>\n",
       "      <td>0.067235</td>\n",
       "    </tr>\n",
       "    <tr>\n",
       "      <th>1161</th>\n",
       "      <td>official wdis wr sun morning 10 03 2021</td>\n",
       "      <td>0</td>\n",
       "      <td>0.932678</td>\n",
       "      <td>0.067322</td>\n",
       "    </tr>\n",
       "    <tr>\n",
       "      <th>1053</th>\n",
       "      <td>official wdis flex sat morning 10 02 2021</td>\n",
       "      <td>0</td>\n",
       "      <td>0.932678</td>\n",
       "      <td>0.067322</td>\n",
       "    </tr>\n",
       "    <tr>\n",
       "      <th>969</th>\n",
       "      <td>official wdis flex fri morning 10 01 2021</td>\n",
       "      <td>0</td>\n",
       "      <td>0.932678</td>\n",
       "      <td>0.067322</td>\n",
       "    </tr>\n",
       "    <tr>\n",
       "      <th>1667</th>\n",
       "      <td>official add drop fri morning 10 08 2021</td>\n",
       "      <td>0</td>\n",
       "      <td>0.932678</td>\n",
       "      <td>0.067322</td>\n",
       "    </tr>\n",
       "    <tr>\n",
       "      <th>1271</th>\n",
       "      <td>official add drop mon morning 10 04 2021</td>\n",
       "      <td>0</td>\n",
       "      <td>0.932678</td>\n",
       "      <td>0.067322</td>\n",
       "    </tr>\n",
       "    <tr>\n",
       "      <th>1477</th>\n",
       "      <td>official wednesday weekly trade value wed morn...</td>\n",
       "      <td>0</td>\n",
       "      <td>0.932678</td>\n",
       "      <td>0.067322</td>\n",
       "    </tr>\n",
       "  </tbody>\n",
       "</table>\n",
       "</div>"
      ],
      "text/plain": [
       "                                            clean_title  Target    prob_0  \\\n",
       "1861            official wdis rb sun morning 10 10 2021       0  0.946304   \n",
       "1762            official wdis rb sat morning 10 09 2021       0  0.946304   \n",
       "1090            official wdis rb sat evening 10 02 2021       0  0.932765   \n",
       "1016            official wdis rb fri evening 10 01 2021       0  0.932765   \n",
       "1161            official wdis wr sun morning 10 03 2021       0  0.932678   \n",
       "1053          official wdis flex sat morning 10 02 2021       0  0.932678   \n",
       "969           official wdis flex fri morning 10 01 2021       0  0.932678   \n",
       "1667           official add drop fri morning 10 08 2021       0  0.932678   \n",
       "1271           official add drop mon morning 10 04 2021       0  0.932678   \n",
       "1477  official wednesday weekly trade value wed morn...       0  0.932678   \n",
       "\n",
       "        prob_1  \n",
       "1861  0.053696  \n",
       "1762  0.053696  \n",
       "1090  0.067235  \n",
       "1016  0.067235  \n",
       "1161  0.067322  \n",
       "1053  0.067322  \n",
       "969   0.067322  \n",
       "1667  0.067322  \n",
       "1271  0.067322  \n",
       "1477  0.067322  "
      ]
     },
     "execution_count": 36,
     "metadata": {},
     "output_type": "execute_result"
    }
   ],
   "source": [
    "# showing observations with the highest prediction of r/fantasyfootball\n",
    "df_test.sort_values(by = 'prob_0', ascending = False).head(10)"
   ]
  },
  {
   "cell_type": "code",
   "execution_count": 37,
   "id": "94e17031-ae36-4895-ac84-e9c0a3f982d7",
   "metadata": {},
   "outputs": [
    {
     "data": {
      "text/html": [
       "<div>\n",
       "<style scoped>\n",
       "    .dataframe tbody tr th:only-of-type {\n",
       "        vertical-align: middle;\n",
       "    }\n",
       "\n",
       "    .dataframe tbody tr th {\n",
       "        vertical-align: top;\n",
       "    }\n",
       "\n",
       "    .dataframe thead th {\n",
       "        text-align: right;\n",
       "    }\n",
       "</style>\n",
       "<table border=\"1\" class=\"dataframe\">\n",
       "  <thead>\n",
       "    <tr style=\"text-align: right;\">\n",
       "      <th></th>\n",
       "      <th>clean_title</th>\n",
       "      <th>Target</th>\n",
       "      <th>prob_0</th>\n",
       "      <th>prob_1</th>\n",
       "    </tr>\n",
       "  </thead>\n",
       "  <tbody>\n",
       "    <tr>\n",
       "      <th>193</th>\n",
       "      <td>schefter bucs quarterback tom brady set nfl ti...</td>\n",
       "      <td>1</td>\n",
       "      <td>0.011925</td>\n",
       "      <td>0.988075</td>\n",
       "    </tr>\n",
       "    <tr>\n",
       "      <th>379</th>\n",
       "      <td>highlight j herbert pas short middle parham 4 ...</td>\n",
       "      <td>1</td>\n",
       "      <td>0.026737</td>\n",
       "      <td>0.973263</td>\n",
       "    </tr>\n",
       "    <tr>\n",
       "      <th>554</th>\n",
       "      <td>urban meyer disastrous head coach hire nfl his...</td>\n",
       "      <td>1</td>\n",
       "      <td>0.030078</td>\n",
       "      <td>0.969922</td>\n",
       "    </tr>\n",
       "    <tr>\n",
       "      <th>297</th>\n",
       "      <td>highlight tom brady get sacked matt judon 8 ya...</td>\n",
       "      <td>1</td>\n",
       "      <td>0.031135</td>\n",
       "      <td>0.968865</td>\n",
       "    </tr>\n",
       "    <tr>\n",
       "      <th>174</th>\n",
       "      <td>tom brady tampa bay buccaneer defeat new engla...</td>\n",
       "      <td>1</td>\n",
       "      <td>0.032239</td>\n",
       "      <td>0.967761</td>\n",
       "    </tr>\n",
       "    <tr>\n",
       "      <th>898</th>\n",
       "      <td>highlight big ben 50 yard bomb diontae td</td>\n",
       "      <td>1</td>\n",
       "      <td>0.035694</td>\n",
       "      <td>0.964306</td>\n",
       "    </tr>\n",
       "    <tr>\n",
       "      <th>285</th>\n",
       "      <td>highlight brady pass drew brees career pas yar...</td>\n",
       "      <td>1</td>\n",
       "      <td>0.038843</td>\n",
       "      <td>0.961157</td>\n",
       "    </tr>\n",
       "    <tr>\n",
       "      <th>701</th>\n",
       "      <td>highlight geno smith ball picked</td>\n",
       "      <td>1</td>\n",
       "      <td>0.039415</td>\n",
       "      <td>0.960585</td>\n",
       "    </tr>\n",
       "    <tr>\n",
       "      <th>381</th>\n",
       "      <td>highlight charger called facemask</td>\n",
       "      <td>1</td>\n",
       "      <td>0.046503</td>\n",
       "      <td>0.953497</td>\n",
       "    </tr>\n",
       "    <tr>\n",
       "      <th>402</th>\n",
       "      <td>highlight charger wit da pooch punt v raider r...</td>\n",
       "      <td>1</td>\n",
       "      <td>0.046503</td>\n",
       "      <td>0.953497</td>\n",
       "    </tr>\n",
       "  </tbody>\n",
       "</table>\n",
       "</div>"
      ],
      "text/plain": [
       "                                           clean_title  Target    prob_0  \\\n",
       "193  schefter bucs quarterback tom brady set nfl ti...       1  0.011925   \n",
       "379  highlight j herbert pas short middle parham 4 ...       1  0.026737   \n",
       "554  urban meyer disastrous head coach hire nfl his...       1  0.030078   \n",
       "297  highlight tom brady get sacked matt judon 8 ya...       1  0.031135   \n",
       "174  tom brady tampa bay buccaneer defeat new engla...       1  0.032239   \n",
       "898          highlight big ben 50 yard bomb diontae td       1  0.035694   \n",
       "285  highlight brady pass drew brees career pas yar...       1  0.038843   \n",
       "701                   highlight geno smith ball picked       1  0.039415   \n",
       "381                  highlight charger called facemask       1  0.046503   \n",
       "402  highlight charger wit da pooch punt v raider r...       1  0.046503   \n",
       "\n",
       "       prob_1  \n",
       "193  0.988075  \n",
       "379  0.973263  \n",
       "554  0.969922  \n",
       "297  0.968865  \n",
       "174  0.967761  \n",
       "898  0.964306  \n",
       "285  0.961157  \n",
       "701  0.960585  \n",
       "381  0.953497  \n",
       "402  0.953497  "
      ]
     },
     "execution_count": 37,
     "metadata": {},
     "output_type": "execute_result"
    }
   ],
   "source": [
    "# showing observations with the highest prediction of r/NFL\n",
    "df_test.sort_values(by = 'prob_1', ascending = False).head(10)"
   ]
  },
  {
   "cell_type": "code",
   "execution_count": 38,
   "id": "a92d4f0f-4903-4277-a63c-cb285431f9c3",
   "metadata": {},
   "outputs": [],
   "source": [
    "# Create CSV from final DF\n",
    "df_test.to_csv('./data/reddit_predict_proba.csv')"
   ]
  },
  {
   "cell_type": "markdown",
   "id": "fc1209b1-6817-4a75-9616-13865d4c55e4",
   "metadata": {},
   "source": [
    "---"
   ]
  },
  {
   "cell_type": "markdown",
   "id": "8f5d9980-105e-46bb-bf93-920b4391111a",
   "metadata": {},
   "source": [
    "## Attempt Four: Bayes"
   ]
  },
  {
   "cell_type": "code",
   "execution_count": 39,
   "id": "0cd95608-39d2-4599-88c6-013f743f4b96",
   "metadata": {},
   "outputs": [],
   "source": [
    "# creating pipe with naive bayes and countvectorizer\n",
    "bayes_pipe = make_pipeline(CountVectorizer(stop_words = 'english', max_features = 300),\n",
    "                           MultinomialNB())"
   ]
  },
  {
   "cell_type": "code",
   "execution_count": 40,
   "id": "becacc41-38a7-4559-ba36-7b8247552928",
   "metadata": {},
   "outputs": [],
   "source": [
    "# gridsearching across ngram ranges\n",
    "params = {'countvectorizer__ngram_range': [(1,1), (1,2), (1,3), (2,3)]}"
   ]
  },
  {
   "cell_type": "code",
   "execution_count": 41,
   "id": "d41214ba-698d-4de6-b8d9-651f65b89a78",
   "metadata": {},
   "outputs": [
    {
     "data": {
      "text/plain": [
       "GridSearchCV(estimator=Pipeline(steps=[('countvectorizer',\n",
       "                                        CountVectorizer(max_features=300,\n",
       "                                                        stop_words='english')),\n",
       "                                       ('multinomialnb', MultinomialNB())]),\n",
       "             n_jobs=-1,\n",
       "             param_grid={'countvectorizer__ngram_range': [(1, 1), (1, 2),\n",
       "                                                          (1, 3), (2, 3)]})"
      ]
     },
     "execution_count": 41,
     "metadata": {},
     "output_type": "execute_result"
    }
   ],
   "source": [
    "# creating gridsearch and fitting to training data\n",
    "bayes_grid = GridSearchCV(bayes_pipe, params, n_jobs =-1)\n",
    "bayes_grid.fit(X_train,y_train)"
   ]
  },
  {
   "cell_type": "code",
   "execution_count": 42,
   "id": "90bbabc3-6868-4bd3-a0e1-30534f90c415",
   "metadata": {},
   "outputs": [],
   "source": [
    "# creating predictions for test data\n",
    "preds = bayes_grid.predict(X_test)"
   ]
  },
  {
   "cell_type": "code",
   "execution_count": 43,
   "id": "ff374496-d6df-40b2-9315-9c1eaf9ed66d",
   "metadata": {},
   "outputs": [
    {
     "data": {
      "text/plain": [
       "0.7888198757763976"
      ]
     },
     "execution_count": 43,
     "metadata": {},
     "output_type": "execute_result"
    }
   ],
   "source": [
    "# accuracy score for test data\n",
    "bayes_grid.score(X_test, y_test)"
   ]
  },
  {
   "cell_type": "code",
   "execution_count": 44,
   "id": "cdd54198-0074-4cc2-bf9b-d65392adcac4",
   "metadata": {},
   "outputs": [
    {
     "data": {
      "text/plain": [
       "0.843015214384509"
      ]
     },
     "execution_count": 44,
     "metadata": {},
     "output_type": "execute_result"
    }
   ],
   "source": [
    "# accuracy score for training data\n",
    "bayes_grid.score(X_train, y_train)"
   ]
  },
  {
   "cell_type": "code",
   "execution_count": 45,
   "id": "9377dee8-6b0b-4c67-bb72-de9d4b9981b3",
   "metadata": {},
   "outputs": [
    {
     "data": {
      "text/plain": [
       "{'countvectorizer__ngram_range': (1, 1)}"
      ]
     },
     "execution_count": 45,
     "metadata": {},
     "output_type": "execute_result"
    }
   ],
   "source": [
    "# pulling best parameters from gridsearch\n",
    "bayes_grid.best_params_"
   ]
  }
 ],
 "metadata": {
  "kernelspec": {
   "display_name": "Python 3 (ipykernel)",
   "language": "python",
   "name": "python3"
  },
  "language_info": {
   "codemirror_mode": {
    "name": "ipython",
    "version": 3
   },
   "file_extension": ".py",
   "mimetype": "text/x-python",
   "name": "python",
   "nbconvert_exporter": "python",
   "pygments_lexer": "ipython3",
   "version": "3.9.7"
  }
 },
 "nbformat": 4,
 "nbformat_minor": 5
}
